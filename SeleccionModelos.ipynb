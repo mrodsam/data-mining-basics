{
  "nbformat": 4,
  "nbformat_minor": 0,
  "metadata": {
    "colab": {
      "name": "SeleccionModelos.ipynb",
      "provenance": [],
      "collapsed_sections": [],
      "toc_visible": true
    },
    "kernelspec": {
      "name": "python3",
      "display_name": "Python 3"
    }
  },
  "cells": [
    {
      "cell_type": "markdown",
      "metadata": {
        "id": "mJJWExoqgsEP",
        "colab_type": "text"
      },
      "source": [
        "# Clasificación"
      ]
    },
    {
      "cell_type": "markdown",
      "metadata": {
        "id": "N4F4mRNe_Kn_",
        "colab_type": "text"
      },
      "source": [
        "Los clasificadores empleados son LDA y KNN."
      ]
    },
    {
      "cell_type": "code",
      "metadata": {
        "id": "vvp5Vh0CgxTK",
        "colab_type": "code",
        "colab": {}
      },
      "source": [
        "from sklearn.discriminant_analysis import LinearDiscriminantAnalysis\n",
        "from sklearn.neighbors import KNeighborsClassifier"
      ],
      "execution_count": 0,
      "outputs": []
    },
    {
      "cell_type": "markdown",
      "metadata": {
        "id": "s7naoeoFhxPg",
        "colab_type": "text"
      },
      "source": [
        "Carga del dataset iris"
      ]
    },
    {
      "cell_type": "code",
      "metadata": {
        "id": "Beppdp0WhsS-",
        "colab_type": "code",
        "colab": {}
      },
      "source": [
        "from sklearn import datasets\n",
        "iris = datasets.load_iris()\n",
        "X = iris.data\n",
        "y = iris.target"
      ],
      "execution_count": 0,
      "outputs": []
    },
    {
      "cell_type": "markdown",
      "metadata": {
        "id": "foSF8CxhiFbl",
        "colab_type": "text"
      },
      "source": [
        "División en conjuntos de entrenamiento y pruebas."
      ]
    },
    {
      "cell_type": "code",
      "metadata": {
        "id": "rBRRuoPaiJRK",
        "colab_type": "code",
        "colab": {}
      },
      "source": [
        "from sklearn.model_selection import train_test_split\n",
        "X_train, X_test, y_train, y_test = train_test_split(X, y, test_size=0.3)"
      ],
      "execution_count": 0,
      "outputs": []
    },
    {
      "cell_type": "markdown",
      "metadata": {
        "id": "ZKCv_r7NicQ0",
        "colab_type": "text"
      },
      "source": [
        "Inicialización de los clasificadores"
      ]
    },
    {
      "cell_type": "code",
      "metadata": {
        "id": "N-m9CWQQifMu",
        "colab_type": "code",
        "colab": {}
      },
      "source": [
        "lda = LinearDiscriminantAnalysis()\n",
        "knn = KNeighborsClassifier()"
      ],
      "execution_count": 0,
      "outputs": []
    },
    {
      "cell_type": "markdown",
      "metadata": {
        "id": "HzIFvBbwkGYy",
        "colab_type": "text"
      },
      "source": [
        "Entrenamiento de los modelos"
      ]
    },
    {
      "cell_type": "code",
      "metadata": {
        "id": "wAS7mvJnkIkL",
        "colab_type": "code",
        "outputId": "7e1ee637-4ffc-467e-fd83-b0a6f7c52a44",
        "colab": {
          "base_uri": "https://localhost:8080/",
          "height": 68
        }
      },
      "source": [
        "knn.fit(X_train, y_train)"
      ],
      "execution_count": 5,
      "outputs": [
        {
          "output_type": "execute_result",
          "data": {
            "text/plain": [
              "KNeighborsClassifier(algorithm='auto', leaf_size=30, metric='minkowski',\n",
              "                     metric_params=None, n_jobs=None, n_neighbors=5, p=2,\n",
              "                     weights='uniform')"
            ]
          },
          "metadata": {
            "tags": []
          },
          "execution_count": 5
        }
      ]
    },
    {
      "cell_type": "code",
      "metadata": {
        "id": "WQuUAdA0LsXI",
        "colab_type": "code",
        "colab": {
          "base_uri": "https://localhost:8080/",
          "height": 51
        },
        "outputId": "e0d7ffa9-3aaf-4d7a-f5e2-489128e37cf6"
      },
      "source": [
        "lda.fit(X_train, y_train)"
      ],
      "execution_count": 6,
      "outputs": [
        {
          "output_type": "execute_result",
          "data": {
            "text/plain": [
              "LinearDiscriminantAnalysis(n_components=None, priors=None, shrinkage=None,\n",
              "                           solver='svd', store_covariance=False, tol=0.0001)"
            ]
          },
          "metadata": {
            "tags": []
          },
          "execution_count": 6
        }
      ]
    },
    {
      "cell_type": "markdown",
      "metadata": {
        "id": "1WtRZ8InkYCw",
        "colab_type": "text"
      },
      "source": [
        "Predicción"
      ]
    },
    {
      "cell_type": "code",
      "metadata": {
        "id": "eJjWTXAOkagQ",
        "colab_type": "code",
        "colab": {}
      },
      "source": [
        "y_pred_knn = knn.predict(X_test)\n",
        "y_pred_lda = lda.predict(X_test)"
      ],
      "execution_count": 0,
      "outputs": []
    },
    {
      "cell_type": "markdown",
      "metadata": {
        "id": "asFGVJOq0N4M",
        "colab_type": "text"
      },
      "source": [
        "# Rendimiento individual"
      ]
    },
    {
      "cell_type": "code",
      "metadata": {
        "id": "icK5C2no1I4_",
        "colab_type": "code",
        "outputId": "1bc9d0ef-f4f4-40df-c929-9468c7c5816b",
        "colab": {
          "base_uri": "https://localhost:8080/",
          "height": 391
        }
      },
      "source": [
        "from sklearn.metrics import classification_report\n",
        "\n",
        "knn_acc = knn.score(X_test, y_test)\n",
        "lda_acc = lda.score(X_test, y_test)\n",
        "\n",
        "print(classification_report(y_test, y_pred_knn))\n",
        "print(classification_report(y_test, y_pred_lda))\n",
        "\n",
        "print('Precisión del clasificador de K vecinos más cercanos: %.2f%%' % (knn_acc*100))\n",
        "print('Precisión del clasificador de Análisis discriminante lineal: %.2f%%' % (lda_acc*100))"
      ],
      "execution_count": 8,
      "outputs": [
        {
          "output_type": "stream",
          "text": [
            "              precision    recall  f1-score   support\n",
            "\n",
            "           0       1.00      1.00      1.00        17\n",
            "           1       1.00      0.75      0.86        16\n",
            "           2       0.75      1.00      0.86        12\n",
            "\n",
            "    accuracy                           0.91        45\n",
            "   macro avg       0.92      0.92      0.90        45\n",
            "weighted avg       0.93      0.91      0.91        45\n",
            "\n",
            "              precision    recall  f1-score   support\n",
            "\n",
            "           0       1.00      1.00      1.00        17\n",
            "           1       1.00      0.88      0.93        16\n",
            "           2       0.86      1.00      0.92        12\n",
            "\n",
            "    accuracy                           0.96        45\n",
            "   macro avg       0.95      0.96      0.95        45\n",
            "weighted avg       0.96      0.96      0.96        45\n",
            "\n",
            "Precisión del clasificador de K vecinos más cercanos: 91.11%\n",
            "Precisión del clasificador de Análisis discriminante lineal: 95.56%\n"
          ],
          "name": "stdout"
        }
      ]
    },
    {
      "cell_type": "markdown",
      "metadata": {
        "id": "KypZV6r1nXbX",
        "colab_type": "text"
      },
      "source": [
        "# Validación cruzada de 10 iteraciones"
      ]
    },
    {
      "cell_type": "code",
      "metadata": {
        "id": "vyQ4kWLZNbP2",
        "colab_type": "code",
        "colab": {
          "base_uri": "https://localhost:8080/",
          "height": 51
        },
        "outputId": "2da42fda-b268-4896-d423-ef1d712899d5"
      },
      "source": [
        "from sklearn import model_selection\n",
        "\n",
        "k_fold_val = model_selection.KFold(n_splits=10, shuffle=True)\n",
        "result_knn = model_selection.cross_val_score(knn, X, y, cv=k_fold_val, scoring='accuracy')\n",
        "result_lda = model_selection.cross_val_score(lda, X, y, cv=k_fold_val, scoring='accuracy')\n",
        "\n",
        "print(\"KNN: %f (%f)\"% (result_knn.mean(), result_knn.std()))\n",
        "print(\"LDA: %f (%f)\"% (result_lda.mean(), result_lda.std()))\n"
      ],
      "execution_count": 9,
      "outputs": [
        {
          "output_type": "stream",
          "text": [
            "KNN: 0.966667 (0.044721)\n",
            "LDA: 0.980000 (0.030551)\n"
          ],
          "name": "stdout"
        }
      ]
    },
    {
      "cell_type": "markdown",
      "metadata": {
        "id": "1urVUY2decSv",
        "colab_type": "text"
      },
      "source": [
        "# Test de McNemar"
      ]
    },
    {
      "cell_type": "markdown",
      "metadata": {
        "id": "SbzozCO7lAgw",
        "colab_type": "text"
      },
      "source": [
        "Creación de tabla de contingencia o matriz de confusión."
      ]
    },
    {
      "cell_type": "code",
      "metadata": {
        "id": "WbKF8X5PdmzQ",
        "colab_type": "code",
        "outputId": "7c2caf62-5e76-4dae-c3fe-739e4a2f3ff7",
        "colab": {
          "base_uri": "https://localhost:8080/",
          "height": 51
        }
      },
      "source": [
        "from mlxtend.evaluate import mcnemar_table\n",
        "table = mcnemar_table(y_test, y_pred_knn, y_pred_lda)\n",
        "print(table)"
      ],
      "execution_count": 10,
      "outputs": [
        {
          "output_type": "stream",
          "text": [
            "[[41  2]\n",
            " [ 0  2]]\n"
          ],
          "name": "stdout"
        }
      ]
    },
    {
      "cell_type": "markdown",
      "metadata": {
        "id": "NtvXNOrYz0Xb",
        "colab_type": "text"
      },
      "source": [
        "Aplicación del Test de McNemar con correción de continuidad: cálculo del estadístico χ² y el valor p."
      ]
    },
    {
      "cell_type": "code",
      "metadata": {
        "id": "edvJkK0DfJm3",
        "colab_type": "code",
        "outputId": "2d68b79f-481a-42ec-be6b-bbd7a41d40c5",
        "colab": {
          "base_uri": "https://localhost:8080/",
          "height": 51
        }
      },
      "source": [
        "from mlxtend.evaluate import mcnemar\n",
        "\n",
        "chi2, p = mcnemar(table, corrected=True)\n",
        "print('Estadístico chi-cuadrado:', chi2)\n",
        "print('Valor p:', p)"
      ],
      "execution_count": 11,
      "outputs": [
        {
          "output_type": "stream",
          "text": [
            "Estadístico chi-cuadrado: 0.5\n",
            "Valor p: 0.47950012218695337\n"
          ],
          "name": "stdout"
        }
      ]
    },
    {
      "cell_type": "markdown",
      "metadata": {
        "id": "3Umd7SNL6p3I",
        "colab_type": "text"
      },
      "source": [
        "Interpretación del resultado con un nivel de significatividad α = 0.05\n",
        "\n",
        "---\n",
        "\n"
      ]
    },
    {
      "cell_type": "code",
      "metadata": {
        "id": "HYYOAKEasCK9",
        "colab_type": "code",
        "outputId": "7cdf6972-f86e-4bf6-be29-57db3d44daa8",
        "colab": {
          "base_uri": "https://localhost:8080/",
          "height": 34
        }
      },
      "source": [
        "alpha = 0.05\n",
        "if p > alpha:\n",
        "\tprint('Se acepta la hipótesis nula: ambos modelos tienen el mismo rendimiento.')\n",
        "else:\n",
        "\tprint('Se rechaza la hipótesis nula: los modelos no tienen el mismo rendimiento.')"
      ],
      "execution_count": 12,
      "outputs": [
        {
          "output_type": "stream",
          "text": [
            "Se acepta la hipótesis nula: ambos modelos tienen el mismo rendimiento.\n"
          ],
          "name": "stdout"
        }
      ]
    },
    {
      "cell_type": "markdown",
      "metadata": {
        "id": "s6MtFqnBqhyY",
        "colab_type": "text"
      },
      "source": [
        "# 5x2cv paired t test"
      ]
    },
    {
      "cell_type": "markdown",
      "metadata": {
        "id": "vSRDZPEhrRGf",
        "colab_type": "text"
      },
      "source": [
        "Aplicación del test t de Student pareado sobre los resultados de aplicar 5x2-fold cross validation."
      ]
    },
    {
      "cell_type": "code",
      "metadata": {
        "id": "dOdrsk_grUEP",
        "colab_type": "code",
        "outputId": "a08821fa-e271-4e55-9712-ce8992ffaa3e",
        "colab": {
          "base_uri": "https://localhost:8080/",
          "height": 51
        }
      },
      "source": [
        "from mlxtend.evaluate import paired_ttest_5x2cv\n",
        "\n",
        "t, p = paired_ttest_5x2cv(knn, lda, X, y, random_seed=1)\n",
        "\n",
        "print('Estadístico t: ', t)\n",
        "print('Valor p: ', p)"
      ],
      "execution_count": 13,
      "outputs": [
        {
          "output_type": "stream",
          "text": [
            "Estadístico t:  -1.3693063937629153\n",
            "Valor p:  0.2292049735542175\n"
          ],
          "name": "stdout"
        }
      ]
    },
    {
      "cell_type": "markdown",
      "metadata": {
        "id": "LPrQ51dY7UVW",
        "colab_type": "text"
      },
      "source": [
        "Interpretación del resultado con un valor de significatividad α = 0.05\n"
      ]
    },
    {
      "cell_type": "code",
      "metadata": {
        "id": "kIt48n_T7Y8_",
        "colab_type": "code",
        "outputId": "4ba7343f-138b-4087-c43d-e1908c539c85",
        "colab": {
          "base_uri": "https://localhost:8080/",
          "height": 34
        }
      },
      "source": [
        "alpha = 0.05\n",
        "if p > alpha:\n",
        "\tprint('Se acepta la hipótesis nula: ambos modelos tienen el mismo rendimiento.')\n",
        "else:\n",
        "\tprint('Se rechaza la hipótesis nula: los modelos no tienen el mismo rendimiento.')"
      ],
      "execution_count": 14,
      "outputs": [
        {
          "output_type": "stream",
          "text": [
            "Se acepta la hipótesis nula: ambos modelos tienen el mismo rendimiento.\n"
          ],
          "name": "stdout"
        }
      ]
    }
  ]
}